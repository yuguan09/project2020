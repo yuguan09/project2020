{
 "cells": [
  {
   "cell_type": "markdown",
   "metadata": {},
   "source": [
    "# 1.gram-schmidt Algorithm"
   ]
  },
  {
   "cell_type": "code",
   "execution_count": 1,
   "metadata": {},
   "outputs": [],
   "source": [
    "import numpy as np\n",
    "from numpy import linalg as LA  #ユークリッドノルム\n",
    "import random"
   ]
  },
  {
   "cell_type": "code",
   "execution_count": 2,
   "metadata": {},
   "outputs": [],
   "source": [
    "def gram(a,b):\n",
    "    return ((np.dot(a,b)/np.dot(a,a))*a)"
   ]
  },
  {
   "cell_type": "markdown",
   "metadata": {},
   "source": [
    "　　ベクトル\n",
    "  \n",
    "$$[3,2,1]^{T},[2,1,3]^{T},[1,3,2]^{T}$$\n",
    "\n",
    "　　に対して、"
   ]
  },
  {
   "cell_type": "code",
   "execution_count": 3,
   "metadata": {},
   "outputs": [],
   "source": [
    "#直交ベクトル\n",
    "a=np.array([3,2,1])\n",
    "b=np.array([2,1,3])\n",
    "c=np.array([1,3,2])"
   ]
  },
  {
   "cell_type": "markdown",
   "metadata": {},
   "source": [
    "$$u_{1}=v_{1}\\\\u_{2}=v_{2}-proj_{u1}(v_{2})\\\\u_{2}=v_{3}-proj_{u1}(v_{3})-proj_{u2}(v_{3})\\\\.....\\\\u_{k}=v_{k}-\\sum_{j=1}^{k-1}proj_{uj}(v_{k})$$"
   ]
  },
  {
   "cell_type": "code",
   "execution_count": 4,
   "metadata": {},
   "outputs": [
    {
     "name": "stdout",
     "output_type": "stream",
     "text": [
      "[3 2 1] [-0.35714286 -0.57142857  2.21428571] [-1.2   1.68  0.24]\n",
      "0.0\n"
     ]
    }
   ],
   "source": [
    "Va=a\n",
    "Vb=b-gram(Va,b)\n",
    "Vc=c-gram(Va,c)-gram(Vb,c)\n",
    "print(Va,Vb,Vc)\n",
    "print(np.dot(Va,Vb))\n",
    "#直交ベクトル"
   ]
  },
  {
   "cell_type": "markdown",
   "metadata": {},
   "source": [
    "$$e_{1}=\\frac{u_{1}}{||u_{1}||}\\\\e_{2}=\\frac{u_{2}}{||u_{2}||}\\\\......\\\\e_{k}=\\frac{u_{k}}{||u_{k}||}$$"
   ]
  },
  {
   "cell_type": "code",
   "execution_count": 5,
   "metadata": {},
   "outputs": [
    {
     "name": "stdout",
     "output_type": "stream",
     "text": [
      "[0.80178373 0.53452248 0.26726124] [-0.15430335 -0.24688536  0.95668077] [-0.57735027  0.80829038  0.11547005]\n"
     ]
    }
   ],
   "source": [
    "#絶対値\n",
    "Ea=Va/LA.norm(Va,2)\n",
    "Eb=Vb/LA.norm(Vb,2)\n",
    "Ec=Vc/LA.norm(Vc,2)\n",
    "print(Ea,Eb,Ec)\n",
    "#絶対値"
   ]
  },
  {
   "cell_type": "markdown",
   "metadata": {},
   "source": [
    "# 2.gram-schmidt Algorithm of random array"
   ]
  },
  {
   "cell_type": "markdown",
   "metadata": {},
   "source": [
    " ランダムに得られるベクトルに対してグラムシュミット化を行うアルゴリズム"
   ]
  },
  {
   "cell_type": "code",
   "execution_count": 27,
   "metadata": {},
   "outputs": [
    {
     "name": "stdout",
     "output_type": "stream",
     "text": [
      "[[0.75696033 0.47797919]\n",
      " [0.7569424  0.03510697]]\n",
      "[[ 0.75696033  0.47797919]\n",
      " [ 0.19992696 -0.31661792]]\n"
     ]
    }
   ],
   "source": [
    "import numpy as np\n",
    "from numpy import linalg as LA\n",
    "\n",
    "\n",
    "dimension=2   #次元を指定する\n",
    "\n",
    "def randomnumber(dimension):\n",
    "    return np.random.random((dimension,dimension))\n",
    "\n",
    "def gram(a,b):\n",
    "    return ((np.dot(a,b)/np.dot(a,a))*a)\n",
    "\n",
    "v=randomnumber(dimension)\n",
    "\n",
    "u=np.zeros((dimension,dimension),dtype='float64')\n",
    "u[0]=v[0]\n",
    "\n",
    "x=0\n",
    "sum=np.array([0,0],dtype='float64')\n",
    "\n",
    "for a in range(1,dimension):\n",
    "    for b in range(0,a):\n",
    "        sum+=gram(u[b],v[a])\n",
    "    u[a]=v[a]-sum\n",
    "    \n",
    "print(v)\n",
    "print(u)"
   ]
  },
  {
   "cell_type": "code",
   "execution_count": null,
   "metadata": {},
   "outputs": [],
   "source": []
  }
 ],
 "metadata": {
  "kernelspec": {
   "display_name": "Python 3",
   "language": "python",
   "name": "python3"
  },
  "language_info": {
   "codemirror_mode": {
    "name": "ipython",
    "version": 3
   },
   "file_extension": ".py",
   "mimetype": "text/x-python",
   "name": "python",
   "nbconvert_exporter": "python",
   "pygments_lexer": "ipython3",
   "version": "3.9.0"
  }
 },
 "nbformat": 4,
 "nbformat_minor": 4
}
