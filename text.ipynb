{
 "cells": [
  {
   "cell_type": "code",
   "execution_count": 17,
   "outputs": [],
   "source": [
    "import numpy as np\n",
    "from numpy import linalg as LA  #ユークリッドノルム\n"
   ],
   "metadata": {
    "collapsed": false,
    "pycharm": {
     "name": "#%%\n"
    }
   }
  },
  {
   "cell_type": "markdown",
   "source": [
    "$$\\int_{-\\infty}^{\\infty}\\\\$$"
   ],
   "metadata": {
    "collapsed": false
   }
  },
  {
   "cell_type": "code",
   "execution_count": 18,
   "outputs": [],
   "source": [
    "def gram(a,b):\n",
    "    return ((np.dot(a,b)/np.dot(a,a))*a)"
   ],
   "metadata": {
    "collapsed": false,
    "pycharm": {
     "name": "#%%\n"
    }
   }
  },
  {
   "cell_type": "code",
   "execution_count": 19,
   "outputs": [],
   "source": [
    "#直交ベクトル\n",
    "a=np.array([3,2,1])\n",
    "b=np.array([2,1,3])\n",
    "c=np.array([1,3,2])"
   ],
   "metadata": {
    "collapsed": false,
    "pycharm": {
     "name": "#%%\n"
    }
   }
  },
  {
   "cell_type": "code",
   "execution_count": 20,
   "outputs": [
    {
     "name": "stdout",
     "output_type": "stream",
     "text": [
      "[3 2 1] [-0.35714286 -0.57142857  2.21428571] [-1.2   1.68  0.24]\n",
      "0.0\n"
     ]
    }
   ],
   "source": [
    "Va=a\n",
    "Vb=b-gram(Va,b)\n",
    "Vc=c-gram(Va,c)-gram(Vb,c)\n",
    "print(Va,Vb,Vc)\n",
    "print(np.dot(Va,Vb))\n",
    "#直交ベクトル"
   ],
   "metadata": {
    "collapsed": false,
    "pycharm": {
     "name": "#%%\n"
    }
   }
  },
  {
   "cell_type": "code",
   "execution_count": 21,
   "outputs": [
    {
     "name": "stdout",
     "output_type": "stream",
     "text": [
      "[0.80178373 0.53452248 0.26726124] [-0.15430335 -0.24688536  0.95668077] [-0.57735027  0.80829038  0.11547005]\n"
     ]
    }
   ],
   "source": [
    "#絶対値\n",
    "Ea=Va/LA.norm(Va,2)\n",
    "Eb=Vb/LA.norm(Vb,2)\n",
    "Ec=Vc/LA.norm(Vc,2)\n",
    "print(Ea,Eb,Ec)\n",
    "#絶対値"
   ],
   "metadata": {
    "collapsed": false,
    "pycharm": {
     "name": "#%%\n"
    }
   }
  },
  {
   "cell_type": "code",
   "execution_count": 22,
   "outputs": [
    {
     "name": "stdout",
     "output_type": "stream",
     "text": [
      "0.0\n"
     ]
    }
   ],
   "source": [
    "print(np.dot(Ea,Eb))"
   ],
   "metadata": {
    "collapsed": false,
    "pycharm": {
     "name": "#%%\n"
    }
   }
  }
 ],
 "metadata": {
  "kernelspec": {
   "display_name": "Python 3",
   "language": "python",
   "name": "python3"
  },
  "language_info": {
   "codemirror_mode": {
    "name": "ipython",
    "version": 2
   },
   "file_extension": ".py",
   "mimetype": "text/x-python",
   "name": "python",
   "nbconvert_exporter": "python",
   "pygments_lexer": "ipython2",
   "version": "2.7.6"
  },
  "pycharm": {
   "stem_cell": {
    "cell_type": "raw",
    "source": [
     "\n"
    ],
    "metadata": {
     "collapsed": false
    }
   }
  }
 },
 "nbformat": 4,
 "nbformat_minor": 0
}